{
 "cells": [
  {
   "attachments": {},
   "cell_type": "markdown",
   "metadata": {},
   "source": [
    "# AWS Data Lake - Udacity STEDI Project"
   ]
  },
  {
   "attachments": {},
   "cell_type": "markdown",
   "metadata": {},
   "source": [
    "## 1. Import Package"
   ]
  },
  {
   "cell_type": "code",
   "execution_count": 4,
   "metadata": {},
   "outputs": [],
   "source": [
    "import boto3\n",
    "import configparser\n",
    "from time import sleep\n",
    "import pandas as pd\n",
    "from botocore.exceptions import ClientError\n"
   ]
  },
  {
   "attachments": {},
   "cell_type": "markdown",
   "metadata": {},
   "source": [
    "## 2. Create resource"
   ]
  },
  {
   "cell_type": "markdown",
   "metadata": {},
   "source": [
    "### Load configuration from aws.cfg"
   ]
  },
  {
   "cell_type": "code",
   "execution_count": 5,
   "metadata": {},
   "outputs": [],
   "source": [
    "config = configparser.ConfigParser()\n",
    "config.read('aws.cfg')\n",
    "\n",
    "AWS_REGION = config.get('AWS', 'AWS_REGION')\n",
    "AWS_ACCESS_KEY = config.get('AWS', 'AWS_ACCESS_KEY')\n",
    "AWS_SECRET_ACCESS_KEY = config.get('AWS', 'AWS_SECRET_ACCESS_KEY')\n",
    "S3_BUCKET_NAME = config.get('S3', 'S3_BUCKET_NAME')\n",
    "GLUE_DB          = config.get(\"GLUE\",\"GLUE_DB\")"
   ]
  },
  {
   "cell_type": "markdown",
   "metadata": {},
   "source": [
    "### Create S3 bucket"
   ]
  },
  {
   "cell_type": "code",
   "execution_count": 6,
   "metadata": {},
   "outputs": [
    {
     "name": "stdout",
     "output_type": "stream",
     "text": [
      "Creating clients for S3\n",
      "Creating AWS S3\n"
     ]
    },
    {
     "name": "stderr",
     "output_type": "stream",
     "text": [
      "/datadrive05/anhdtv7/miniconda3/envs/aws/lib/python3.6/site-packages/boto3/compat.py:88: PythonDeprecationWarning: Boto3 will no longer support Python 3.6 starting May 30, 2022. To continue receiving service updates, bug fixes, and security updates please upgrade to Python 3.7 or later. More information can be found here: https://aws.amazon.com/blogs/developer/python-support-policy-updates-for-aws-sdks-and-tools/\n",
      "  warnings.warn(warning, PythonDeprecationWarning)\n"
     ]
    },
    {
     "name": "stdout",
     "output_type": "stream",
     "text": [
      "Creating S3 directory s3://anhdtv-stedi/customer/\n",
      "S3 directory s3://anhdtv-stedi/customer/ created successfully.\n",
      "Creating S3 directory s3://anhdtv-stedi/step_trainer/\n",
      "S3 directory s3://anhdtv-stedi/step_trainer/ created successfully.\n",
      "Creating S3 directory s3://anhdtv-stedi/accelerometer/\n",
      "S3 directory s3://anhdtv-stedi/accelerometer/ created successfully.\n"
     ]
    }
   ],
   "source": [
    "print(\"Creating clients for S3\")\n",
    "s3 =  boto3.resource('s3',\n",
    "                    region_name=AWS_REGION,\n",
    "                    aws_access_key_id=AWS_ACCESS_KEY,\n",
    "                    aws_secret_access_key=AWS_SECRET_ACCESS_KEY\n",
    "                        )\n",
    "\n",
    "print(\"Creating AWS S3\")\n",
    "try:\n",
    "    s3.create_bucket(Bucket=S3_BUCKET_NAME, CreateBucketConfiguration={\n",
    "        'LocationConstraint': AWS_REGION\n",
    "    })\n",
    "except Exception as e:\n",
    "    if 'BucketAlreadyOwnedByYou' in str(e):\n",
    "        print(f\"Bucket '{S3_BUCKET_NAME}' already exists.\")\n",
    "\n",
    "\n",
    "directories = ['customer',\n",
    "                'step_trainer', 'accelerometer']\n",
    "                \n",
    "for directory in directories:\n",
    "    bucket = s3.Bucket(S3_BUCKET_NAME)\n",
    "    s3_key = directory + '/'\n",
    "    try:\n",
    "        bucket.Object(s3_key).load()\n",
    "        print(\n",
    "            f'S3 directory s3://{S3_BUCKET_NAME}/{s3_key} already exists.')\n",
    "    except:\n",
    "        print(f'Creating S3 directory s3://{S3_BUCKET_NAME}/{s3_key}')\n",
    "        bucket.put_object(Key=s3_key)\n",
    "        # Wait for the directory to be created\n",
    "        while True:\n",
    "            try:\n",
    "                bucket.Object(s3_key).load()\n",
    "                print(\n",
    "                    f'S3 directory s3://{S3_BUCKET_NAME}/{s3_key} created successfully.')\n",
    "                break\n",
    "            except:\n",
    "                print(\n",
    "                    f'Waiting for S3 directory s3://{S3_BUCKET_NAME}/{s3_key} to be created...')\n",
    "                sleep(5)"
   ]
  },
  {
   "attachments": {},
   "cell_type": "markdown",
   "metadata": {},
   "source": [
    "## 3. Sync data from local directory to AWS s3"
   ]
  },
  {
   "attachments": {},
   "cell_type": "markdown",
   "metadata": {},
   "source": [
    "### Set OS environment variables for AWS CLI"
   ]
  },
  {
   "cell_type": "code",
   "execution_count": 7,
   "metadata": {},
   "outputs": [],
   "source": [
    "import os\n",
    "os.environ[\"AWS_ACCESS_KEY_ID\"] = AWS_ACCESS_KEY\n",
    "os.environ[\"AWS_SECRET_ACCESS_KEY\"] = AWS_SECRET_ACCESS_KEY\n",
    "os.environ[\"AWS_DEFAULT_REGION\"] = AWS_REGION"
   ]
  },
  {
   "attachments": {},
   "cell_type": "markdown",
   "metadata": {},
   "source": [
    "### Sync data from local to S3 bucket"
   ]
  },
  {
   "cell_type": "code",
   "execution_count": 72,
   "metadata": {},
   "outputs": [
    {
     "name": "stdout",
     "output_type": "stream",
     "text": [
      "upload: data/customers/customer-1691348231425.json to s3://anhdtv-stedi/customer/landing/customer-1691348231425.json\n"
     ]
    }
   ],
   "source": [
    "! aws s3 sync ./data/customers/ s3://anhdtv-stedi/customer/landing\n",
    "# ! aws s3 sync ./data/accelerometer/ s3://anhdtv-stedi/accelerometer/landing\n",
    "# ! aws s3 sync ./data/step_trainer/ s3://anhdtv-stedi/step_trainer/landing"
   ]
  },
  {
   "attachments": {},
   "cell_type": "markdown",
   "metadata": {},
   "source": [
    "### Check data on S3 bucket"
   ]
  },
  {
   "cell_type": "code",
   "execution_count": 73,
   "metadata": {},
   "outputs": [
    {
     "name": "stderr",
     "output_type": "stream",
     "text": [
      "/datadrive05/anhdtv7/miniconda3/envs/aws/lib/python3.6/site-packages/boto3/compat.py:88: PythonDeprecationWarning: Boto3 will no longer support Python 3.6 starting May 30, 2022. To continue receiving service updates, bug fixes, and security updates please upgrade to Python 3.7 or later. More information can be found here: https://aws.amazon.com/blogs/developer/python-support-policy-updates-for-aws-sdks-and-tools/\n",
      "  warnings.warn(warning, PythonDeprecationWarning)\n"
     ]
    }
   ],
   "source": [
    "s3 = boto3.resource('s3',\n",
    "                    aws_access_key_id=AWS_ACCESS_KEY,\n",
    "                    aws_secret_access_key=AWS_SECRET_ACCESS_KEY,\n",
    "                    region_name=AWS_REGION  \n",
    ")\n",
    "\n",
    "stedi_bucket = s3.Bucket(S3_BUCKET_NAME)"
   ]
  },
  {
   "attachments": {},
   "cell_type": "markdown",
   "metadata": {},
   "source": [
    "#### Check Customer data"
   ]
  },
  {
   "cell_type": "code",
   "execution_count": 74,
   "metadata": {},
   "outputs": [
    {
     "data": {
      "text/plain": [
       "[s3.ObjectSummary(bucket_name='anhdtv-stedi', key='customer/landing/customer-1691348231425.json')]"
      ]
     },
     "execution_count": 74,
     "metadata": {},
     "output_type": "execute_result"
    }
   ],
   "source": [
    "customer_data = [ obj for obj in stedi_bucket.objects.limit(10).filter(Prefix=\"customer\")]\n",
    "customer_data"
   ]
  },
  {
   "attachments": {},
   "cell_type": "markdown",
   "metadata": {},
   "source": [
    "#### Check Step_trainer data"
   ]
  },
  {
   "cell_type": "code",
   "execution_count": 54,
   "metadata": {},
   "outputs": [
    {
     "data": {
      "text/plain": [
       "[s3.ObjectSummary(bucket_name='anhdtv-stedi', key='step_trainer/'),\n",
       " s3.ObjectSummary(bucket_name='anhdtv-stedi', key='step_trainer/landing/09e31ee8-4138-443a-a985-c538e6433535.csv'),\n",
       " s3.ObjectSummary(bucket_name='anhdtv-stedi', key='step_trainer/landing/09e31ee8-4138-443a-a985-c538e6433535.csv.metadata'),\n",
       " s3.ObjectSummary(bucket_name='anhdtv-stedi', key='step_trainer/landing/15496593-ba06-4e94-8107-9d357e566c0f.txt'),\n",
       " s3.ObjectSummary(bucket_name='anhdtv-stedi', key='step_trainer/landing/step_trainer-1691348232038.json'),\n",
       " s3.ObjectSummary(bucket_name='anhdtv-stedi', key='step_trainer/landing/step_trainer-1691348232085.json'),\n",
       " s3.ObjectSummary(bucket_name='anhdtv-stedi', key='step_trainer/landing/step_trainer-1691348232132.json'),\n",
       " s3.ObjectSummary(bucket_name='anhdtv-stedi', key='step_trainer/trusted/a7dc91a7-78e5-448e-94d8-efb62c373c79.csv'),\n",
       " s3.ObjectSummary(bucket_name='anhdtv-stedi', key='step_trainer/trusted/a7dc91a7-78e5-448e-94d8-efb62c373c79.csv.metadata')]"
      ]
     },
     "execution_count": 54,
     "metadata": {},
     "output_type": "execute_result"
    }
   ],
   "source": [
    "step_trainer_data = [ obj for obj in stedi_bucket.objects.limit(10).filter(Prefix=\"step_trainer\")]\n",
    "step_trainer_data"
   ]
  },
  {
   "attachments": {},
   "cell_type": "markdown",
   "metadata": {},
   "source": [
    "#### Check Accelerometer data"
   ]
  },
  {
   "cell_type": "code",
   "execution_count": 12,
   "metadata": {},
   "outputs": [
    {
     "data": {
      "text/plain": [
       "10"
      ]
     },
     "execution_count": 12,
     "metadata": {},
     "output_type": "execute_result"
    }
   ],
   "source": [
    "accelerometer_data = [ obj for obj in stedi_bucket.objects.filter(Prefix=\"accelerometer\")]\n",
    "len(accelerometer_data)"
   ]
  },
  {
   "attachments": {},
   "cell_type": "markdown",
   "metadata": {},
   "source": [
    "## 4. Configuring the S3 VPC Gateway Endpoint"
   ]
  },
  {
   "attachments": {},
   "cell_type": "markdown",
   "metadata": {},
   "source": [
    "### 4.1 Use the AWS CLI to identify the VPC that needs access to S3:"
   ]
  },
  {
   "cell_type": "code",
   "execution_count": 55,
   "metadata": {},
   "outputs": [
    {
     "name": "stdout",
     "output_type": "stream",
     "text": [
      "{\n",
      "    \"Vpcs\": [\n",
      "        {\n",
      "            \"CidrBlock\": \"172.31.0.0/16\",\n",
      "            \"DhcpOptionsId\": \"dopt-0874ef9faa0280288\",\n",
      "            \"State\": \"available\",\n",
      "            \"VpcId\": \"vpc-0f260bb33946d0513\",\n",
      "            \"OwnerId\": \"004668495805\",\n",
      "            \"InstanceTenancy\": \"default\",\n",
      "            \"CidrBlockAssociationSet\": [\n",
      "                {\n",
      "                    \"AssociationId\": \"vpc-cidr-assoc-0d6e74c47db6c36c9\",\n",
      "                    \"CidrBlock\": \"172.31.0.0/16\",\n",
      "                    \"CidrBlockState\": {\n",
      "                        \"State\": \"associated\"\n",
      "                    }\n",
      "                }\n",
      "            ],\n",
      "            \"IsDefault\": true\n",
      "        }\n",
      "    ]\n",
      "}\n"
     ]
    }
   ],
   "source": [
    "! aws ec2 describe-vpcs"
   ]
  },
  {
   "attachments": {},
   "cell_type": "markdown",
   "metadata": {},
   "source": [
    "### 4.2 Identify the routing table you want to configure with your VPC Gateway"
   ]
  },
  {
   "cell_type": "code",
   "execution_count": 56,
   "metadata": {},
   "outputs": [
    {
     "name": "stdout",
     "output_type": "stream",
     "text": [
      "{\n",
      "    \"RouteTables\": [\n",
      "        {\n",
      "            \"Associations\": [\n",
      "                {\n",
      "                    \"Main\": true,\n",
      "                    \"RouteTableAssociationId\": \"rtbassoc-0ca5602dd6ff0b069\",\n",
      "                    \"RouteTableId\": \"rtb-02be98e72fc4f5ef7\",\n",
      "                    \"AssociationState\": {\n",
      "                        \"State\": \"associated\"\n",
      "                    }\n",
      "                }\n",
      "            ],\n",
      "            \"PropagatingVgws\": [],\n",
      "            \"RouteTableId\": \"rtb-02be98e72fc4f5ef7\",\n",
      "            \"Routes\": [\n",
      "                {\n",
      "                    \"DestinationCidrBlock\": \"172.31.0.0/16\",\n",
      "                    \"GatewayId\": \"local\",\n",
      "                    \"Origin\": \"CreateRouteTable\",\n",
      "                    \"State\": \"active\"\n",
      "                },\n",
      "                {\n",
      "                    \"DestinationCidrBlock\": \"0.0.0.0/0\",\n",
      "                    \"GatewayId\": \"igw-02385e932565c21bf\",\n",
      "                    \"Origin\": \"CreateRoute\",\n",
      "                    \"State\": \"active\"\n",
      "                },\n",
      "                {\n",
      "                    \"DestinationPrefixListId\": \"pl-68a54001\",\n",
      "                    \"GatewayId\": \"vpce-0e2b9baaea4660638\",\n",
      "                    \"Origin\": \"CreateRoute\",\n",
      "                    \"State\": \"active\"\n",
      "                }\n",
      "            ],\n",
      "            \"Tags\": [],\n",
      "            \"VpcId\": \"vpc-0f260bb33946d0513\",\n",
      "            \"OwnerId\": \"004668495805\"\n",
      "        }\n",
      "    ]\n",
      "}\n"
     ]
    }
   ],
   "source": [
    "! aws ec2 describe-route-tables"
   ]
  },
  {
   "attachments": {},
   "cell_type": "markdown",
   "metadata": {},
   "source": [
    "### 4.3 Create an S3 Gateway Endpoint"
   ]
  },
  {
   "cell_type": "code",
   "execution_count": 15,
   "metadata": {},
   "outputs": [
    {
     "name": "stdout",
     "output_type": "stream",
     "text": [
      "\n",
      "An error occurred (RouteAlreadyExists) when calling the CreateVpcEndpoint operation: route table rtb-02be98e72fc4f5ef7 already has a route with destination-prefix-list-id pl-68a54001\n"
     ]
    }
   ],
   "source": [
    "! aws ec2 create-vpc-endpoint --vpc-id 'vpc-0f260bb33946d0513' --service-name com.amazonaws.us-west-2.s3 --route-table-ids 'rtb-02be98e72fc4f5ef7'"
   ]
  },
  {
   "attachments": {},
   "cell_type": "markdown",
   "metadata": {},
   "source": [
    "### 4.4 Creating the Glue Service IAM Role"
   ]
  },
  {
   "cell_type": "code",
   "execution_count": 16,
   "metadata": {},
   "outputs": [
    {
     "name": "stdout",
     "output_type": "stream",
     "text": [
      "\n",
      "An error occurred (AccessDenied) when calling the CreateRole operation: User: arn:aws:iam::004668495805:user/anhdtv is not authorized to perform: iam:CreateRole on resource: arn:aws:iam::004668495805:role/stedi-role with an explicit deny in an identity-based policy\n"
     ]
    }
   ],
   "source": [
    "! aws iam create-role --role-name stedi-role --assume-role-policy-document '{ \"Version\": \"2012-10-17\", \"Statement\": [{\"Effect\": \"Allow\", \"Principal\": {\"Service\": \"glue.amazonaws.com\"}, \"Action\": \"sts:AssumeRole\"}]}'"
   ]
  },
  {
   "attachments": {},
   "cell_type": "markdown",
   "metadata": {},
   "source": [
    "### 4.5 Grant Glue Privileges on the S3 Bucket"
   ]
  },
  {
   "cell_type": "code",
   "execution_count": 17,
   "metadata": {},
   "outputs": [
    {
     "name": "stdout",
     "output_type": "stream",
     "text": [
      "\n",
      "An error occurred (AccessDenied) when calling the PutRolePolicy operation: User: arn:aws:iam::004668495805:user/anhdtv is not authorized to perform: iam:PutRolePolicy on resource: role stedi-role with an explicit deny in an identity-based policy\n"
     ]
    }
   ],
   "source": [
    "! aws iam put-role-policy --role-name stedi-role --policy-name S3Access --policy-document '{ \\\n",
    "    \"Version\": \"2012-10-17\", \\\n",
    "    \"Statement\": [ \\\n",
    "        { \\\n",
    "            \"Effect\": \"Allow\", \\\n",
    "            \"Action\": [ \\\n",
    "                \"s3:GetBucketLocation\", \\\n",
    "                \"s3:ListBucket\", \\\n",
    "                \"s3:GetObject\", \\\n",
    "                \"s3:GetObjectTagging\" \\\n",
    "            ], \\\n",
    "            \"Resource\": [ \\\n",
    "                \"arn:aws:s3:::cd0030bucket\", \\\n",
    "                \"arn:aws:s3:::cd0030bucket/*\" \\\n",
    "            ] \\\n",
    "        }, \\\n",
    "        { \\\n",
    "            \"Effect\": \"Allow\", \\\n",
    "            \"Action\": [ \\\n",
    "                \"s3:GetBucketLocation\", \\\n",
    "                \"s3:ListBucket\", \\\n",
    "                \"s3:GetObject\", \\\n",
    "                \"s3:PutObject\", \\\n",
    "                \"s3:deleteObject\", \\\n",
    "                \"s3:GetObjectTagging\", \\\n",
    "                \"s3:PutObjectTagging\" \\\n",
    "            ], \\\n",
    "            \"Resource\": [ \\\n",
    "                \"arn:aws:s3:::anhdtv-stedi\",\\\n",
    "                \"arn:aws:s3:::anhdtv-stedi/*\" \\\n",
    "            ] \\\n",
    "        } \\\n",
    "    ] \\\n",
    "}'"
   ]
  },
  {
   "attachments": {},
   "cell_type": "markdown",
   "metadata": {},
   "source": [
    "### 4.5 Glu Policy - Give Glue access to data in special S3 buckets used for Glue configuration, and several other resources"
   ]
  },
  {
   "cell_type": "code",
   "execution_count": 18,
   "metadata": {},
   "outputs": [
    {
     "name": "stdout",
     "output_type": "stream",
     "text": [
      "\n",
      "An error occurred (AccessDenied) when calling the PutRolePolicy operation: User: arn:aws:iam::004668495805:user/anhdtv is not authorized to perform: iam:PutRolePolicy on resource: role stedi-role with an explicit deny in an identity-based policy\n"
     ]
    }
   ],
   "source": [
    "! aws iam put-role-policy --role-name stedi-role --policy-name GlueAccess --policy-document '{ \\\n",
    "    \"Version\": \"2012-10-17\", \\\n",
    "    \"Statement\": [ \\\n",
    "        { \\\n",
    "            \"Effect\": \"Allow\", \\\n",
    "            \"Action\": [ \\\n",
    "                \"glue:*\", \\\n",
    "                \"s3:GetBucketLocation\", \\\n",
    "                \"s3:ListBucket\", \\\n",
    "                \"s3:ListAllMyBuckets\", \\\n",
    "                \"s3:GetBucketAcl\", \\\n",
    "                \"ec2:DescribeVpcEndpoints\", \\\n",
    "                \"ec2:DescribeRouteTables\", \\\n",
    "                \"ec2:CreateNetworkInterface\", \\\n",
    "                \"ec2:DeleteNetworkInterface\", \\\n",
    "                \"ec2:DescribeNetworkInterfaces\", \\\n",
    "                \"ec2:DescribeSecurityGroups\", \\\n",
    "                \"ec2:DescribeSubnets\", \\\n",
    "                \"ec2:DescribeVpcAttribute\", \\\n",
    "                \"iam:ListRolePolicies\", \\\n",
    "                \"iam:GetRole\", \\\n",
    "                \"iam:GetRolePolicy\", \\\n",
    "                \"cloudwatch:PutMetricData\" \\\n",
    "            ], \\\n",
    "            \"Resource\": [ \\\n",
    "                \"*\" \\\n",
    "            ] \\\n",
    "        }, \\\n",
    "        { \\\n",
    "            \"Effect\": \"Allow\", \\\n",
    "            \"Action\": [ \\\n",
    "                \"s3:CreateBucket\", \\\n",
    "                \"s3:PutBucketPublicAccessBlock\" \\\n",
    "            ], \\\n",
    "            \"Resource\": [ \\\n",
    "                \"arn:aws:s3:::aws-glue-*\" \\\n",
    "            ] \\\n",
    "        }, \\\n",
    "        { \\\n",
    "            \"Effect\": \"Allow\", \\\n",
    "            \"Action\": [ \\\n",
    "                \"s3:GetObject\", \\\n",
    "                \"s3:PutObject\", \\\n",
    "                \"s3:DeleteObject\" \\\n",
    "            ], \\\n",
    "            \"Resource\": [ \\\n",
    "                \"arn:aws:s3:::aws-glue-*/*\", \\\n",
    "                \"arn:aws:s3:::*/*aws-glue-*/*\" \\\n",
    "            ] \\\n",
    "        }, \\\n",
    "        { \\\n",
    "            \"Effect\": \"Allow\", \\\n",
    "            \"Action\": [ \\\n",
    "                \"s3:GetObject\" \\\n",
    "            ], \\\n",
    "            \"Resource\": [ \\\n",
    "                \"arn:aws:s3:::crawler-public*\", \\\n",
    "                \"arn:aws:s3:::aws-glue-*\" \\\n",
    "            ] \\\n",
    "        }, \\\n",
    "        { \\\n",
    "            \"Effect\": \"Allow\", \\\n",
    "            \"Action\": [ \\\n",
    "                \"logs:CreateLogGroup\", \\\n",
    "                \"logs:CreateLogStream\", \\\n",
    "                \"logs:PutLogEvents\", \\\n",
    "                \"logs:AssociateKmsKey\" \\\n",
    "            ], \\\n",
    "            \"Resource\": [ \\\n",
    "                \"arn:aws:logs:*:*:/aws-glue/*\" \\\n",
    "            ] \\\n",
    "        }, \\\n",
    "        { \\\n",
    "            \"Effect\": \"Allow\", \\\n",
    "            \"Action\": [ \\\n",
    "                \"ec2:CreateTags\", \\\n",
    "                \"ec2:DeleteTags\" \\\n",
    "            ], \\\n",
    "            \"Condition\": { \\\n",
    "                \"ForAllValues:StringEquals\": { \\\n",
    "                    \"aws:TagKeys\": [ \\\n",
    "                        \"aws-glue-service-resource\" \\\n",
    "                    ] \\\n",
    "                } \\\n",
    "            }, \\\n",
    "            \"Resource\": [ \\\n",
    "                \"arn:aws:ec2:*:*:network-interface/*\", \\\n",
    "                \"arn:aws:ec2:*:*:security-group/*\", \\\n",
    "                \"arn:aws:ec2:*:*:instance/*\" \\\n",
    "            ] \\\n",
    "        } \\\n",
    "    ] \\\n",
    "}'"
   ]
  },
  {
   "attachments": {},
   "cell_type": "markdown",
   "metadata": {},
   "source": [
    "## 5. Glue"
   ]
  },
  {
   "cell_type": "code",
   "execution_count": 78,
   "metadata": {},
   "outputs": [
    {
     "name": "stderr",
     "output_type": "stream",
     "text": [
      "/datadrive05/anhdtv7/miniconda3/envs/aws/lib/python3.6/site-packages/boto3/compat.py:88: PythonDeprecationWarning: Boto3 will no longer support Python 3.6 starting May 30, 2022. To continue receiving service updates, bug fixes, and security updates please upgrade to Python 3.7 or later. More information can be found here: https://aws.amazon.com/blogs/developer/python-support-policy-updates-for-aws-sdks-and-tools/\n",
      "  warnings.warn(warning, PythonDeprecationWarning)\n"
     ]
    }
   ],
   "source": [
    "glue = boto3.client('glue')"
   ]
  },
  {
   "attachments": {},
   "cell_type": "markdown",
   "metadata": {},
   "source": [
    "### 5.1 Create glue database"
   ]
  },
  {
   "cell_type": "code",
   "execution_count": 79,
   "metadata": {},
   "outputs": [
    {
     "data": {
      "text/plain": [
       "{'ResponseMetadata': {'RequestId': '4e579e7f-6c9d-4a85-b31a-36ace7722a1c',\n",
       "  'HTTPStatusCode': 200,\n",
       "  'HTTPHeaders': {'date': 'Mon, 06 Nov 2023 08:02:30 GMT',\n",
       "   'content-type': 'application/x-amz-json-1.1',\n",
       "   'content-length': '2',\n",
       "   'connection': 'keep-alive',\n",
       "   'x-amzn-requestid': '4e579e7f-6c9d-4a85-b31a-36ace7722a1c'},\n",
       "  'RetryAttempts': 0}}"
      ]
     },
     "execution_count": 79,
     "metadata": {},
     "output_type": "execute_result"
    }
   ],
   "source": [
    "glue.create_database(DatabaseInput={'Name': GLUE_DB})"
   ]
  },
  {
   "attachments": {},
   "cell_type": "markdown",
   "metadata": {},
   "source": [
    "### 5.3 Create Glue tables"
   ]
  },
  {
   "cell_type": "code",
   "execution_count": 80,
   "metadata": {},
   "outputs": [
    {
     "data": {
      "text/plain": [
       "{'ResponseMetadata': {'RequestId': 'edeb8993-2f5c-4b7b-8185-3b5a0c9aebfe',\n",
       "  'HTTPStatusCode': 200,\n",
       "  'HTTPHeaders': {'date': 'Mon, 06 Nov 2023 08:02:42 GMT',\n",
       "   'content-type': 'application/x-amz-json-1.1',\n",
       "   'content-length': '2',\n",
       "   'connection': 'keep-alive',\n",
       "   'x-amzn-requestid': 'edeb8993-2f5c-4b7b-8185-3b5a0c9aebfe'},\n",
       "  'RetryAttempts': 0}}"
      ]
     },
     "execution_count": 80,
     "metadata": {},
     "output_type": "execute_result"
    }
   ],
   "source": [
    "# create Glue tables\n",
    "table_input_customer = {\n",
    "    'Name': 'customer_landing',\n",
    "    'Description': 'Customer landing table from S3',\n",
    "    'StorageDescriptor': {\n",
    "        'Columns': [\n",
    "            {'Name': 'customerName', 'Type': 'string'},\n",
    "            {'Name': 'email', 'Type': 'string'},\n",
    "            {'Name': 'phone', 'Type': 'string'},\n",
    "            {'Name': 'birthDay', 'Type': 'string'},\n",
    "            {'Name': 'serialNumber', 'Type': 'string'},\n",
    "            {'Name': 'registrationDate', 'Type': 'bigint'},\n",
    "            {'Name': 'lastUpdateDate', 'Type': 'bigint'},\n",
    "            {'Name': 'shareWithResearchAsOfDate', 'Type': 'bigint'},\n",
    "            {'Name': 'shareWithPublicAsOfDate', 'Type': 'bigint'},\n",
    "        ],\n",
    "        'Location': 's3://anhdtv-stedi/customer/landing/',\n",
    "        'InputFormat': 'org.apache.hadoop.mapred.TextInputFormat',\n",
    "        'OutputFormat': 'org.apache.hadoop.hive.ql.io.HiveIgnoreKeyTextOutputFormat',\n",
    "        'SerdeInfo': {\n",
    "            'SerializationLibrary': 'org.openx.data.jsonserde.JsonSerDe',\n",
    "            'Parameters': { 'separatorChar': ',' }\n",
    "        },\n",
    "        'StoredAsSubDirectories': False\n",
    "    },\n",
    "    'TableType': 'EXTERNAL_TABLE'\n",
    "}\n",
    "\n",
    "table_input_accelerometer = {\n",
    "    'Name': 'accelerometer_landing',\n",
    "    'Description': 'Accelerometer landing table from S3',\n",
    "    'StorageDescriptor': {\n",
    "        'Columns': [\n",
    "            {'Name': 'user', 'Type': 'string'},\n",
    "            {'Name': 'timeStamp', 'Type': 'bigint'},\n",
    "            {'Name': 'x', 'Type': 'double'},\n",
    "            {'Name': 'y', 'Type': 'double'},\n",
    "            {'Name': 'z', 'Type': 'double'},\n",
    "        ],\n",
    "        'Location': 's3://anhdtv-stedi/accelerometer/landing/',\n",
    "        'InputFormat': 'org.apache.hadoop.mapred.TextInputFormat',\n",
    "        'OutputFormat': 'org.apache.hadoop.hive.ql.io.HiveIgnoreKeyTextOutputFormat',\n",
    "        'SerdeInfo': {\n",
    "            'SerializationLibrary': 'org.openx.data.jsonserde.JsonSerDe',\n",
    "            'Parameters': {'separatorChar': ','}\n",
    "        },\n",
    "        'StoredAsSubDirectories': False\n",
    "    },\n",
    "    'TableType': 'EXTERNAL_TABLE'\n",
    "}\n",
    "\n",
    "glue.create_table(DatabaseName=GLUE_DB, TableInput=table_input_customer)\n",
    "glue.create_table(DatabaseName=GLUE_DB, TableInput=table_input_accelerometer)"
   ]
  },
  {
   "attachments": {},
   "cell_type": "markdown",
   "metadata": {},
   "source": [
    "### 5.4 Create customer trusted table"
   ]
  },
  {
   "cell_type": "code",
   "execution_count": 81,
   "metadata": {},
   "outputs": [
    {
     "data": {
      "text/plain": [
       "{'ResponseMetadata': {'RequestId': '9453c94e-1964-4d6c-a3bf-178858df03db',\n",
       "  'HTTPStatusCode': 200,\n",
       "  'HTTPHeaders': {'date': 'Mon, 06 Nov 2023 08:02:45 GMT',\n",
       "   'content-type': 'application/x-amz-json-1.1',\n",
       "   'content-length': '2',\n",
       "   'connection': 'keep-alive',\n",
       "   'x-amzn-requestid': '9453c94e-1964-4d6c-a3bf-178858df03db'},\n",
       "  'RetryAttempts': 0}}"
      ]
     },
     "execution_count": 81,
     "metadata": {},
     "output_type": "execute_result"
    }
   ],
   "source": [
    "table_input_customer_trusted = {\n",
    "    'Name': 'customer_trusted',\n",
    "    'Description': 'Customer trusted table from S3',\n",
    "    'StorageDescriptor': {\n",
    "        'Columns': [\n",
    "            {'Name': 'customerName', 'Type': 'string'},\n",
    "            {'Name': 'email', 'Type': 'string'},\n",
    "            {'Name': 'phone', 'Type': 'string'},\n",
    "            {'Name': 'birthDay', 'Type': 'string'},\n",
    "            {'Name': 'serialNumber', 'Type': 'string'},\n",
    "            {'Name': 'registrationDate', 'Type': 'bigint'},\n",
    "            {'Name': 'lastUpdateDate', 'Type': 'bigint'},\n",
    "            {'Name': 'shareWithResearchAsOfDate', 'Type': 'bigint'},\n",
    "            {'Name': 'shareWithPublicAsOfDate', 'Type': 'bigint'},\n",
    "        ],\n",
    "        'Location': 's3://anhdtv-stedi/customer/trusted/',\n",
    "        'InputFormat': 'org.apache.hadoop.mapred.TextInputFormat',\n",
    "        'OutputFormat': 'org.apache.hadoop.hive.ql.io.HiveIgnoreKeyTextOutputFormat',\n",
    "        'SerdeInfo': {\n",
    "            'SerializationLibrary': 'org.openx.data.jsonserde.JsonSerDe',\n",
    "            'Parameters': { 'separatorChar': ',' }\n",
    "        },\n",
    "        'StoredAsSubDirectories': False\n",
    "    },\n",
    "    'TableType': 'EXTERNAL_TABLE'\n",
    "}\n",
    "\n",
    "glue.create_table(DatabaseName=GLUE_DB, TableInput=table_input_customer_trusted)"
   ]
  },
  {
   "attachments": {},
   "cell_type": "markdown",
   "metadata": {},
   "source": [
    "### 5.4 Create Accelerometer trusted table"
   ]
  },
  {
   "cell_type": "code",
   "execution_count": 61,
   "metadata": {},
   "outputs": [
    {
     "data": {
      "text/plain": [
       "{'ResponseMetadata': {'RequestId': 'ba6dd7c8-8b64-4f15-8bf4-5aac2b16f97a',\n",
       "  'HTTPStatusCode': 200,\n",
       "  'HTTPHeaders': {'date': 'Mon, 06 Nov 2023 07:57:33 GMT',\n",
       "   'content-type': 'application/x-amz-json-1.1',\n",
       "   'content-length': '2',\n",
       "   'connection': 'keep-alive',\n",
       "   'x-amzn-requestid': 'ba6dd7c8-8b64-4f15-8bf4-5aac2b16f97a'},\n",
       "  'RetryAttempts': 0}}"
      ]
     },
     "execution_count": 61,
     "metadata": {},
     "output_type": "execute_result"
    }
   ],
   "source": [
    "table_input_accelerometer_trusted = {\n",
    "    'Name': 'accelerometer_trusted',\n",
    "    'Description': 'Accelerometer trusted table from S3',\n",
    "    'StorageDescriptor': {\n",
    "        'Columns': [\n",
    "            {'Name': 'user', 'Type': 'string'},\n",
    "            {'Name': 'timeStamp', 'Type': 'bigint'},\n",
    "            {'Name': 'x', 'Type': 'double'},\n",
    "            {'Name': 'y', 'Type': 'double'},\n",
    "            {'Name': 'z', 'Type': 'double'},\n",
    "        ],\n",
    "        'Location': 's3://anhdtv-stedi/accelerometer/trusted/',\n",
    "        'InputFormat': 'org.apache.hadoop.mapred.TextInputFormat',\n",
    "        'OutputFormat': 'org.apache.hadoop.hive.ql.io.HiveIgnoreKeyTextOutputFormat',\n",
    "        'SerdeInfo': {\n",
    "            'SerializationLibrary': 'org.openx.data.jsonserde.JsonSerDe',\n",
    "            'Parameters': {'separatorChar': ','}\n",
    "        },\n",
    "        'StoredAsSubDirectories': False\n",
    "    },\n",
    "    'TableType': 'EXTERNAL_TABLE'\n",
    "}\n",
    "\n",
    "glue.create_table(DatabaseName=GLUE_DB, TableInput=table_input_accelerometer_trusted)"
   ]
  },
  {
   "attachments": {},
   "cell_type": "markdown",
   "metadata": {},
   "source": [
    "### 5.5 Create Customer Curated table"
   ]
  },
  {
   "cell_type": "code",
   "execution_count": 82,
   "metadata": {},
   "outputs": [
    {
     "data": {
      "text/plain": [
       "{'ResponseMetadata': {'RequestId': '011eb944-bc47-469a-b249-2d3026878a7a',\n",
       "  'HTTPStatusCode': 200,\n",
       "  'HTTPHeaders': {'date': 'Mon, 06 Nov 2023 08:02:51 GMT',\n",
       "   'content-type': 'application/x-amz-json-1.1',\n",
       "   'content-length': '2',\n",
       "   'connection': 'keep-alive',\n",
       "   'x-amzn-requestid': '011eb944-bc47-469a-b249-2d3026878a7a'},\n",
       "  'RetryAttempts': 0}}"
      ]
     },
     "execution_count": 82,
     "metadata": {},
     "output_type": "execute_result"
    }
   ],
   "source": [
    "table_input_customer_curated = {\n",
    "    'Name': 'customer_curated',\n",
    "    'Description': 'Customer Curated table from S3',\n",
    "    'StorageDescriptor': {\n",
    "        'Columns': [\n",
    "            {'Name': 'customerName', 'Type': 'string'},\n",
    "            {'Name': 'email', 'Type': 'string'},\n",
    "            {'Name': 'phone', 'Type': 'string'},\n",
    "            {'Name': 'birthDay', 'Type': 'string'},\n",
    "            {'Name': 'serialNumber', 'Type': 'string'},\n",
    "            {'Name': 'registrationDate', 'Type': 'bigint'},\n",
    "            {'Name': 'lastUpdateDate', 'Type': 'bigint'},\n",
    "            {'Name': 'shareWithResearchAsOfDate', 'Type': 'bigint'},\n",
    "            {'Name': 'shareWithPublicAsOfDate', 'Type': 'bigint'},\n",
    "        ],\n",
    "        'Location': 's3://anhdtv-stedi/customer/curated/',\n",
    "        'InputFormat': 'org.apache.hadoop.mapred.TextInputFormat',\n",
    "        'OutputFormat': 'org.apache.hadoop.hive.ql.io.HiveIgnoreKeyTextOutputFormat',\n",
    "        'SerdeInfo': {\n",
    "            'SerializationLibrary': 'org.openx.data.jsonserde.JsonSerDe',\n",
    "            'Parameters': { 'separatorChar': ',' }\n",
    "        },\n",
    "        'StoredAsSubDirectories': False\n",
    "    },\n",
    "    'TableType': 'EXTERNAL_TABLE'\n",
    "}\n",
    "\n",
    "glue.create_table(DatabaseName=GLUE_DB, TableInput=table_input_customer_curated)"
   ]
  },
  {
   "attachments": {},
   "cell_type": "markdown",
   "metadata": {},
   "source": [
    "### 5.5 Create Step Trainer trusted table"
   ]
  },
  {
   "cell_type": "code",
   "execution_count": 63,
   "metadata": {},
   "outputs": [
    {
     "data": {
      "text/plain": [
       "{'ResponseMetadata': {'RequestId': '1fa769da-ab04-4f25-89ba-14b389b1689b',\n",
       "  'HTTPStatusCode': 200,\n",
       "  'HTTPHeaders': {'date': 'Mon, 06 Nov 2023 07:57:39 GMT',\n",
       "   'content-type': 'application/x-amz-json-1.1',\n",
       "   'content-length': '2',\n",
       "   'connection': 'keep-alive',\n",
       "   'x-amzn-requestid': '1fa769da-ab04-4f25-89ba-14b389b1689b'},\n",
       "  'RetryAttempts': 0}}"
      ]
     },
     "execution_count": 63,
     "metadata": {},
     "output_type": "execute_result"
    }
   ],
   "source": [
    "table_input_step_trainer_trusted = {\n",
    "    'Name': 'step_trainer_trusted',\n",
    "    'Description': 'Step Trainer trusted table from S3',\n",
    "    'StorageDescriptor': {\n",
    "        'Columns': [\n",
    "            {'Name': 'sensorReadingTime', 'Type': 'bigint'},\n",
    "            {'Name': 'serialNumber', 'Type': 'string'},\n",
    "            {'Name': 'distanceFromObject', 'Type': 'int'},\n",
    "        ],\n",
    "        'Location': 's3://anhdtv-stedi/step_trainer/trusted/',\n",
    "        'InputFormat': 'org.apache.hadoop.mapred.TextInputFormat',\n",
    "        'OutputFormat': 'org.apache.hadoop.hive.ql.io.HiveIgnoreKeyTextOutputFormat',\n",
    "        'SerdeInfo': {\n",
    "            'SerializationLibrary': 'org.openx.data.jsonserde.JsonSerDe',\n",
    "            'Parameters': {'separatorChar': ','}\n",
    "        },\n",
    "        'StoredAsSubDirectories': False\n",
    "    },\n",
    "    'TableType': 'EXTERNAL_TABLE'\n",
    "}\n",
    "\n",
    "glue.create_table(DatabaseName=GLUE_DB, TableInput=table_input_step_trainer_trusted)"
   ]
  },
  {
   "attachments": {},
   "cell_type": "markdown",
   "metadata": {},
   "source": [
    "## 6 - AWS Athena"
   ]
  },
  {
   "attachments": {},
   "cell_type": "markdown",
   "metadata": {},
   "source": [
    "### 6.1 Create Athena client object"
   ]
  },
  {
   "cell_type": "code",
   "execution_count": 83,
   "metadata": {},
   "outputs": [
    {
     "name": "stderr",
     "output_type": "stream",
     "text": [
      "/datadrive05/anhdtv7/miniconda3/envs/aws/lib/python3.6/site-packages/boto3/compat.py:88: PythonDeprecationWarning: Boto3 will no longer support Python 3.6 starting May 30, 2022. To continue receiving service updates, bug fixes, and security updates please upgrade to Python 3.7 or later. More information can be found here: https://aws.amazon.com/blogs/developer/python-support-policy-updates-for-aws-sdks-and-tools/\n",
      "  warnings.warn(warning, PythonDeprecationWarning)\n"
     ]
    }
   ],
   "source": [
    "athena = boto3.client('athena')"
   ]
  },
  {
   "cell_type": "code",
   "execution_count": 84,
   "metadata": {},
   "outputs": [
    {
     "name": "stdout",
     "output_type": "stream",
     "text": [
      "Execution ID: d185da42-5465-46e6-b16e-c37445993c64\n"
     ]
    }
   ],
   "source": [
    "\n",
    "response = athena.start_query_execution(\n",
    "    QueryString='CREATE DATABASE stedi',\n",
    "    ResultConfiguration={\n",
    "        'OutputLocation': 's3://anhdtv-stedi/'\n",
    "    }\n",
    ")\n",
    "\n",
    "execution_id = response['QueryExecutionId']\n",
    "print(f\"Execution ID: {execution_id}\")"
   ]
  },
  {
   "cell_type": "code",
   "execution_count": 66,
   "metadata": {},
   "outputs": [
    {
     "name": "stdout",
     "output_type": "stream",
     "text": [
      "Execution ID: d15506b2-1f98-4624-9392-d36e89477bc4\n"
     ]
    }
   ],
   "source": [
    "\n",
    "response = athena.start_query_execution(\n",
    "    QueryString='DROP DATABASE IF EXISTS stedi',\n",
    "    ResultConfiguration={\n",
    "        'OutputLocation': 's3://anhdtv-stedi/'\n",
    "    }\n",
    ")\n",
    "\n",
    "execution_id = response['QueryExecutionId']\n",
    "print(f\"Execution ID: {execution_id}\")"
   ]
  },
  {
   "cell_type": "code",
   "execution_count": 29,
   "metadata": {},
   "outputs": [
    {
     "name": "stdout",
     "output_type": "stream",
     "text": [
      "Execution ID: 92bdba62-3812-4497-8820-317f2ad0ee7d\n"
     ]
    }
   ],
   "source": [
    "# Read the SQL script file\n",
    "with open('./sql_script/accelerometer_landing.sql', 'r') as f:\n",
    "    query_string = f.read()\n",
    "\n",
    "response = athena.start_query_execution(\n",
    "    QueryString=query_string,\n",
    "    QueryExecutionContext={\n",
    "        'Database': 'stedi'\n",
    "    },\n",
    "    ResultConfiguration={\n",
    "        'OutputLocation': 's3://anhdtv-stedi/accelerometer/landing'\n",
    "    }\n",
    ")\n",
    "\n",
    "execution_id = response['QueryExecutionId']\n",
    "print(f\"Execution ID: {execution_id}\")\n"
   ]
  },
  {
   "cell_type": "code",
   "execution_count": 67,
   "metadata": {},
   "outputs": [
    {
     "name": "stdout",
     "output_type": "stream",
     "text": [
      "Execution ID: 5ae68db9-063a-4f92-9238-ccf8786296ef\n"
     ]
    }
   ],
   "source": [
    "# count rows of accelerometer_landing\n",
    "response = athena.start_query_execution(\n",
    "    QueryString=\"\"\"SELECT\n",
    "                    COUNT(*) AS number_of_rows\n",
    "                FROM stedi.accelerometer_landing\"\"\",\n",
    "    QueryExecutionContext={\n",
    "        'Database': 'stedi'\n",
    "    },\n",
    "    ResultConfiguration={\n",
    "        'OutputLocation': 's3://anhdtv-stedi/accelerometer/landing'\n",
    "    }\n",
    ")\n",
    "\n",
    "execution_id = response['QueryExecutionId']\n",
    "print(f\"Execution ID: {execution_id}\")\n"
   ]
  },
  {
   "cell_type": "code",
   "execution_count": 42,
   "metadata": {},
   "outputs": [
    {
     "name": "stdout",
     "output_type": "stream",
     "text": [
      "Execution ID: 48d244e4-c642-4973-bc45-4fa8974e3939\n"
     ]
    }
   ],
   "source": [
    "# count rows of accelerometer_landing\n",
    "response = athena.start_query_execution(\n",
    "    QueryString=\"\"\"SELECT COUNT(*) \n",
    "                FROM stedi.accelerometer_landing\"\"\",\n",
    "    QueryExecutionContext={\n",
    "        'Database': 'stedi'\n",
    "    },\n",
    "    ResultConfiguration={\n",
    "        'OutputLocation': 's3://anhdtv-stedi/accelerometer/landing'\n",
    "    }\n",
    ")\n",
    "\n",
    "execution_id = response['QueryExecutionId']\n",
    "print(f\"Execution ID: {execution_id}\")\n"
   ]
  },
  {
   "cell_type": "code",
   "execution_count": 90,
   "metadata": {},
   "outputs": [
    {
     "name": "stdout",
     "output_type": "stream",
     "text": [
      "Execution ID: 0922e60f-cfe3-41fe-9526-39becc8ba77f\n"
     ]
    }
   ],
   "source": [
    "# count rows of accelerometer_landing\n",
    "response = athena.start_query_execution(\n",
    "    QueryString=\"\"\"SELECT COUNT(*) \n",
    "                FROM stedi.accelerometer_trusted\"\"\",\n",
    "    QueryExecutionContext={\n",
    "        'Database': 'stedi'\n",
    "    },\n",
    "    ResultConfiguration={\n",
    "        'OutputLocation': 's3://anhdtv-stedi/accelerometer/trusted'\n",
    "    }\n",
    ")\n",
    "\n",
    "execution_id = response['QueryExecutionId']\n",
    "print(f\"Execution ID: {execution_id}\")\n"
   ]
  },
  {
   "cell_type": "code",
   "execution_count": 85,
   "metadata": {},
   "outputs": [
    {
     "name": "stdout",
     "output_type": "stream",
     "text": [
      "Execution ID: 004a2f0c-7524-4acd-aed0-9540246da39a\n"
     ]
    }
   ],
   "source": [
    "# Read the SQL script file\n",
    "with open('./sql_script/customer_landing.sql', 'r') as f:\n",
    "    query_string = f.read()\n",
    "\n",
    "response = athena.start_query_execution(\n",
    "    QueryString=query_string,\n",
    "    QueryExecutionContext={\n",
    "        'Database': 'stedi'\n",
    "    },\n",
    "    ResultConfiguration={\n",
    "        'OutputLocation': 's3://anhdtv-stedi/customer/landing'\n",
    "    }\n",
    ")\n",
    "\n",
    "execution_id = response['QueryExecutionId']\n",
    "print(f\"Execution ID: {execution_id}\")\n"
   ]
  },
  {
   "cell_type": "code",
   "execution_count": 86,
   "metadata": {},
   "outputs": [
    {
     "name": "stdout",
     "output_type": "stream",
     "text": [
      "Execution ID: e73b15ec-081a-4842-a177-04bea63084b0\n"
     ]
    }
   ],
   "source": [
    "# count rows of customer_landing\n",
    "response = athena.start_query_execution(\n",
    "    QueryString=\"\"\"SELECT\n",
    "                    COUNT(*) AS number_of_rows\n",
    "                FROM stedi.customer_landing\"\"\",\n",
    "    QueryExecutionContext={\n",
    "        'Database': 'stedi'\n",
    "    },\n",
    "    ResultConfiguration={\n",
    "        'OutputLocation': 's3://anhdtv-stedi/customer/landing'\n",
    "    }\n",
    ")\n",
    "\n",
    "execution_id = response['QueryExecutionId']\n",
    "print(f\"Execution ID: {execution_id}\")"
   ]
  },
  {
   "cell_type": "code",
   "execution_count": 89,
   "metadata": {},
   "outputs": [
    {
     "name": "stdout",
     "output_type": "stream",
     "text": [
      "Execution ID: a72c6da3-4404-4eaa-8205-5bf9ec6aeb7d\n"
     ]
    }
   ],
   "source": [
    "# count rows of customer_landing\n",
    "response = athena.start_query_execution(\n",
    "    QueryString=\"\"\"SELECT\n",
    "                    COUNT(*) AS number_of_rows\n",
    "                FROM stedi.customer_trusted\"\"\",\n",
    "    QueryExecutionContext={\n",
    "        'Database': 'stedi'\n",
    "    },\n",
    "    ResultConfiguration={\n",
    "        'OutputLocation': 's3://anhdtv-stedi/customer/trusted'\n",
    "    }\n",
    ")\n",
    "\n",
    "execution_id = response['QueryExecutionId']\n",
    "print(f\"Execution ID: {execution_id}\")"
   ]
  },
  {
   "cell_type": "code",
   "execution_count": 32,
   "metadata": {},
   "outputs": [
    {
     "name": "stdout",
     "output_type": "stream",
     "text": [
      "Execution ID: 10698127-6b91-4871-b7c6-b06694775c0f\n"
     ]
    }
   ],
   "source": [
    "# count rows of customer_landing\n",
    "response = athena.start_query_execution(\n",
    "    QueryString=\"\"\"SELECT *\n",
    "                FROM stedi.customer_trusted\"\"\",\n",
    "    QueryExecutionContext={\n",
    "        'Database': 'stedi'\n",
    "    },\n",
    "    ResultConfiguration={\n",
    "        'OutputLocation': 's3://anhdtv-stedi/customer/trusted'\n",
    "    }\n",
    ")\n",
    "\n",
    "execution_id = response['QueryExecutionId']\n",
    "print(f\"Execution ID: {execution_id}\")"
   ]
  },
  {
   "cell_type": "code",
   "execution_count": 33,
   "metadata": {},
   "outputs": [
    {
     "name": "stdout",
     "output_type": "stream",
     "text": [
      "Execution ID: 51f30f1a-e7b8-497a-bdf1-9a995233c1f7\n"
     ]
    }
   ],
   "source": [
    "response = athena.start_query_execution(\n",
    "    QueryString='DROP TABLE IF EXISTS stedi.customer_landing',\n",
    "    QueryExecutionContext={\n",
    "        'Database': 'stedi'\n",
    "    },\n",
    "    ResultConfiguration={\n",
    "        'OutputLocation': 's3://anhdtv-stedi/customer/landing'\n",
    "    }\n",
    ")\n",
    "\n",
    "execution_id = response['QueryExecutionId']\n",
    "print(f\"Execution ID: {execution_id}\")\n"
   ]
  },
  {
   "cell_type": "code",
   "execution_count": 34,
   "metadata": {},
   "outputs": [
    {
     "name": "stdout",
     "output_type": "stream",
     "text": [
      "Execution ID: 81d3c194-e5cf-4c62-8450-843662d510bf\n"
     ]
    }
   ],
   "source": [
    "# count rows of customer_landing\n",
    "response = athena.start_query_execution(\n",
    "    QueryString=\"\"\"SELECT *\n",
    "                FROM stedi.customer_curated\"\"\",\n",
    "    QueryExecutionContext={\n",
    "        'Database': 'stedi'\n",
    "    },\n",
    "    ResultConfiguration={\n",
    "        'OutputLocation': 's3://anhdtv-stedi/customer/curated'\n",
    "    }\n",
    ")\n",
    "\n",
    "execution_id = response['QueryExecutionId']\n",
    "print(f\"Execution ID: {execution_id}\")\n"
   ]
  },
  {
   "cell_type": "code",
   "execution_count": 39,
   "metadata": {},
   "outputs": [
    {
     "name": "stdout",
     "output_type": "stream",
     "text": [
      "Execution ID: 64b5d750-c58c-461f-b7de-4e74237cf866\n"
     ]
    }
   ],
   "source": [
    "# count rows of customer_landing\n",
    "response = athena.start_query_execution(\n",
    "    QueryString=\"\"\"SELECT COUNT(*) AS number_of_rows\n",
    "                FROM stedi.customer_landing\"\"\",\n",
    "    QueryExecutionContext={\n",
    "        'Database': 'stedi'\n",
    "    },\n",
    "    ResultConfiguration={\n",
    "        'OutputLocation': 's3://anhdtv-stedi/customer/landing'\n",
    "    }\n",
    ")\n",
    "\n",
    "execution_id = response['QueryExecutionId']\n",
    "print(f\"Execution ID: {execution_id}\")\n"
   ]
  },
  {
   "cell_type": "code",
   "execution_count": 35,
   "metadata": {},
   "outputs": [
    {
     "name": "stdout",
     "output_type": "stream",
     "text": [
      "Execution ID: 15496593-ba06-4e94-8107-9d357e566c0f\n"
     ]
    }
   ],
   "source": [
    "# Read the SQL script file\n",
    "with open('./sql_script/step_trainer_landing.sql', 'r') as f:\n",
    "    query_string = f.read()\n",
    "\n",
    "response = athena.start_query_execution(\n",
    "    QueryString=query_string,\n",
    "    QueryExecutionContext={\n",
    "        'Database': 'stedi'\n",
    "    },\n",
    "    ResultConfiguration={\n",
    "        'OutputLocation': 's3://anhdtv-stedi/step_trainer/landing'\n",
    "    }\n",
    ")\n",
    "\n",
    "execution_id = response['QueryExecutionId']\n",
    "print(f\"Execution ID: {execution_id}\")\n"
   ]
  },
  {
   "cell_type": "code",
   "execution_count": 36,
   "metadata": {},
   "outputs": [],
   "source": [
    "# count rows of accelerometer_landing\n",
    "response = athena.start_query_execution(\n",
    "    QueryString=\"\"\"SELECT\n",
    "                    COUNT(*) AS number_of_rows\n",
    "                FROM stedi.step_trainer_landing\"\"\",\n",
    "    QueryExecutionContext={\n",
    "        'Database': 'stedi'\n",
    "    },\n",
    "    ResultConfiguration={\n",
    "        'OutputLocation': 's3://anhdtv-stedi/step_trainer/landing'\n",
    "    }\n",
    ")"
   ]
  },
  {
   "cell_type": "code",
   "execution_count": 37,
   "metadata": {},
   "outputs": [],
   "source": [
    "# count rows of accelerometer_landing\n",
    "response = athena.start_query_execution(\n",
    "    QueryString=\"\"\"SELECT\n",
    "                    *\n",
    "                FROM stedi.step_trainer_trusted\"\"\",\n",
    "    QueryExecutionContext={\n",
    "        'Database': 'stedi'\n",
    "    },\n",
    "    ResultConfiguration={\n",
    "        'OutputLocation': 's3://anhdtv-stedi/step_trainer/trusted'\n",
    "    }\n",
    ")"
   ]
  },
  {
   "cell_type": "markdown",
   "metadata": {},
   "source": [
    "## 7. Delete Resource"
   ]
  },
  {
   "cell_type": "markdown",
   "metadata": {},
   "source": [
    "### Delete S3 bucket "
   ]
  },
  {
   "cell_type": "code",
   "execution_count": 91,
   "metadata": {},
   "outputs": [
    {
     "name": "stdout",
     "output_type": "stream",
     "text": [
      "Error deleting S3 bucket anhdtv-stedi: An error occurred (AccessDenied) when calling the DeleteBucket operation: Access Denied\n"
     ]
    },
    {
     "ename": "NameError",
     "evalue": "name 'time' is not defined",
     "output_type": "error",
     "traceback": [
      "\u001b[0;31m---------------------------------------------------------------------------\u001b[0m",
      "\u001b[0;31mNameError\u001b[0m                                 Traceback (most recent call last)",
      "\u001b[0;32m<ipython-input-91-275b7502239d>\u001b[0m in \u001b[0;36m<module>\u001b[0;34m()\u001b[0m\n\u001b[1;32m     22\u001b[0m     \u001b[0;32mtry\u001b[0m\u001b[0;34m:\u001b[0m\u001b[0;34m\u001b[0m\u001b[0;34m\u001b[0m\u001b[0m\n\u001b[1;32m     23\u001b[0m         \u001b[0ms3\u001b[0m\u001b[0;34m.\u001b[0m\u001b[0mmeta\u001b[0m\u001b[0;34m.\u001b[0m\u001b[0mclient\u001b[0m\u001b[0;34m.\u001b[0m\u001b[0mhead_bucket\u001b[0m\u001b[0;34m(\u001b[0m\u001b[0mBucket\u001b[0m\u001b[0;34m=\u001b[0m\u001b[0mS3_BUCKET_NAME\u001b[0m\u001b[0;34m)\u001b[0m\u001b[0;34m\u001b[0m\u001b[0;34m\u001b[0m\u001b[0m\n\u001b[0;32m---> 24\u001b[0;31m         \u001b[0mtime\u001b[0m\u001b[0;34m.\u001b[0m\u001b[0msleep\u001b[0m\u001b[0;34m(\u001b[0m\u001b[0;36m10\u001b[0m\u001b[0;34m)\u001b[0m\u001b[0;34m\u001b[0m\u001b[0;34m\u001b[0m\u001b[0m\n\u001b[0m\u001b[1;32m     25\u001b[0m     \u001b[0;32mexcept\u001b[0m \u001b[0mClientError\u001b[0m \u001b[0;32mas\u001b[0m \u001b[0me\u001b[0m\u001b[0;34m:\u001b[0m\u001b[0;34m\u001b[0m\u001b[0;34m\u001b[0m\u001b[0m\n\u001b[1;32m     26\u001b[0m         \u001b[0;32mif\u001b[0m \u001b[0me\u001b[0m\u001b[0;34m.\u001b[0m\u001b[0mresponse\u001b[0m\u001b[0;34m[\u001b[0m\u001b[0;34m'Error'\u001b[0m\u001b[0;34m]\u001b[0m\u001b[0;34m[\u001b[0m\u001b[0;34m'Code'\u001b[0m\u001b[0;34m]\u001b[0m \u001b[0;34m==\u001b[0m \u001b[0;34m'404'\u001b[0m\u001b[0;34m:\u001b[0m\u001b[0;34m\u001b[0m\u001b[0;34m\u001b[0m\u001b[0m\n",
      "\u001b[0;31mNameError\u001b[0m: name 'time' is not defined"
     ]
    }
   ],
   "source": [
    "try:\n",
    "        bucket = s3.Bucket(S3_BUCKET_NAME)\n",
    "        bucket.objects.all().delete()\n",
    "\n",
    "        # Delete the bucket\n",
    "        bucket.delete()\n",
    "        print(f'Successfully deleted S3 bucket: {S3_BUCKET_NAME}')\n",
    "except ClientError as e:\n",
    "    if e.response['Error']['Code'] == 'BucketNotEmpty':\n",
    "        print(f'S3 bucket {S3_BUCKET_NAME} is not empty. Deleting all objects inside the bucket...')\n",
    "        \n",
    "        s3.objects.all().delete()\n",
    "        s3.delete_bucket(Bucket=S3_BUCKET_NAME)\n",
    "        print(f'Successfully deleted S3 bucket: {S3_BUCKET_NAME}')\n",
    "    elif e.response['Error']['Code'] == 'NoSuchBucket':\n",
    "        print(f'S3 bucket {S3_BUCKET_NAME} does not exist')\n",
    "    else:\n",
    "        print(f'Error deleting S3 bucket {S3_BUCKET_NAME}: {e}')\n",
    "\n",
    "# Wait for the bucket to be deleted\n",
    "while True:\n",
    "    try:\n",
    "        s3.meta.client.head_bucket(Bucket=S3_BUCKET_NAME)\n",
    "        time.sleep(10)\n",
    "    except ClientError as e:\n",
    "        if e.response['Error']['Code'] == '404':\n",
    "            print(f'S3 bucket {S3_BUCKET_NAME} successfully deleted')\n",
    "            break\n",
    "        else:\n",
    "            print(f'Error waiting for S3 bucket {S3_BUCKET_NAME} to be deleted: {e}')\n"
   ]
  },
  {
   "cell_type": "markdown",
   "metadata": {},
   "source": [
    "### Delete Glue DB"
   ]
  },
  {
   "cell_type": "code",
   "execution_count": 92,
   "metadata": {},
   "outputs": [
    {
     "data": {
      "text/plain": [
       "{'ResponseMetadata': {'RequestId': 'e6c799f3-3fb5-49e1-9996-26b6c45b7876',\n",
       "  'HTTPStatusCode': 200,\n",
       "  'HTTPHeaders': {'date': 'Mon, 06 Nov 2023 08:41:35 GMT',\n",
       "   'content-type': 'application/x-amz-json-1.1',\n",
       "   'content-length': '2',\n",
       "   'connection': 'keep-alive',\n",
       "   'x-amzn-requestid': 'e6c799f3-3fb5-49e1-9996-26b6c45b7876'},\n",
       "  'RetryAttempts': 0}}"
      ]
     },
     "execution_count": 92,
     "metadata": {},
     "output_type": "execute_result"
    }
   ],
   "source": [
    "glue.delete_database(Name=GLUE_DB)"
   ]
  },
  {
   "cell_type": "code",
   "execution_count": null,
   "metadata": {},
   "outputs": [],
   "source": []
  }
 ],
 "metadata": {
  "kernelspec": {
   "display_name": "Python 3",
   "language": "python",
   "name": "python3"
  },
  "language_info": {
   "codemirror_mode": {
    "name": "ipython",
    "version": 3
   },
   "file_extension": ".py",
   "mimetype": "text/x-python",
   "name": "python",
   "nbconvert_exporter": "python",
   "pygments_lexer": "ipython3",
   "version": "3.6.13"
  },
  "orig_nbformat": 4
 },
 "nbformat": 4,
 "nbformat_minor": 2
}
